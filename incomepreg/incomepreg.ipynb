{
 "cells": [
  {
   "cell_type": "markdown",
   "id": "a650eb3f-242d-4d68-85f3-bfe4286c2ba0",
   "metadata": {},
   "source": [
    "# Income's Effect on Pregnancy: Poisson & Negative Binomial Regression\n",
    "In this project, I will answer the question: How does household income and other variables influence the number of pregnancies a woman may have?\n",
    "\n",
    "Note that a woman’s number of pregnancies has a broader definition than number of children; it includes pregnancies that did not carry to term and stillbirths.\n",
    "\n",
    "We will start by defining our Null Hypothesis: \n",
    "There is no significant correlation between income, race, or other variables on the number of pregnancies.\n"
   ]
  },
  {
   "cell_type": "markdown",
   "id": "1f46ff27-6848-440d-bd53-3d671796ab15",
   "metadata": {},
   "source": [
    "## Data\n",
    "The sample was taken from the The Study of Women's Health Across the Nation (SWAN), a research endeavor that collected longitudinal data regarding health metrics from a pool of diverse middle aged women, particularly in regards to their menopausal transition. The data  used in this study were taken from their baseline dataset, which collected in the United States from 3,302 participants who joined the study 1996-1997.\n",
    "\n",
    "[SWAN](https://www.icpsr.umich.edu/web/NACDA/studies/28762#)\n",
    "\n",
    "\n",
    "|  | Sample Size |\n",
    "| ----------- | ----------- |\n",
    "| Initial | 3302 |\n",
    "| After Dropping Missing | 3266 |\n",
    "\n",
    "Missing Values for Number of Pregnancies will be dropped, and no other missing values were found bar the following; Missing Total Family Income, Sexually Active, and Contraceptive Use. These missing values made a significant portion of the sample, and as such, Dummy Variables were created for these missing values"
   ]
  },
  {
   "cell_type": "markdown",
   "id": "c26b0635-80e1-4840-8fac-8fd88b387f14",
   "metadata": {
    "tags": []
   },
   "source": [
    "### Our Dependant Variable\n",
    "Number of Pregnancies\n",
    "NUMPREG0: The number of pregnancies a woman has had as of the date the survey was taken; includes unsuccessful pregnancies in addition to successful births.\n",
    "\n",
    "### Other Variables\n",
    "Household Income\n",
    "The Household Income in the past 12 months of each woman who was surveyed; not the same as personal income. Separated into five dummy variables.\n",
    "\n",
    "| dummy | Amount $ |\n",
    "| ----------- | ----------- |\n",
    "| xincm | Missing Values |\n",
    "| xinc1 | Less than 19,999 |\n",
    "| xinc2 | 20,000 to 49,999 |\n",
    "| xinc3 | 50,000 to 99,000 |\n",
    "| xinc4 | 100,000 or More |\n",
    "\n",
    "Race\n",
    "The Race of each woman who was surveyed, separated into four dummy variables with white omitted. There are no missing variables; only white, black, japanese, chinese, or hispanic women were surveyed.\n",
    "\n",
    "Age\n",
    "The Age of each woman at the time of survey. The SWAN study only only targeted middle aged women, therefore values range from 42 to 53 years old. No missing values.\n",
    "\n",
    "Contraception\n",
    "Whether or not a woman used any methods to prevent pregnancy during the past six months before the survey was taken. Three dummy variables were created: yes, no, or missing.\n",
    "| dummy | Taking contraception? |\n",
    "| ----------- | ----------- |\n",
    "| conm | Missing Values |\n",
    "| con0 | No |\n",
    "| con1 | Yes |\n",
    "\n",
    "Commited Relationship\n",
    "COMMITE0: Whether or not the woman was in a committed relationship with a significant other; includes relationships other than marriage. No missing values in data.\n",
    "\n",
    "Sexually Active\n",
    "Whether or not the woman was sexually active during the past six months before the survey was taken. Three dummy variables were created; yes, no, or missing.\n",
    "| dummy | Sexually Active? |\n",
    "| ----------- | ----------- |\n",
    "| sexam | Missing Values |\n",
    "| sexa0 | No |\n",
    "| sex1 | Yes |\n"
   ]
  },
  {
   "cell_type": "markdown",
   "id": "58d2447d-8233-4460-a0af-d890bab3fa18",
   "metadata": {},
   "source": [
    "## Cleaning Missing Values"
   ]
  },
  {
   "cell_type": "code",
   "execution_count": 207,
   "id": "28eea95c-bc98-4448-bc20-77b70793c17a",
   "metadata": {
    "tags": []
   },
   "outputs": [
    {
     "data": {
      "text/html": [
       "3302"
      ],
      "text/latex": [
       "3302"
      ],
      "text/markdown": [
       "3302"
      ],
      "text/plain": [
       "[1] 3302"
      ]
     },
     "metadata": {},
     "output_type": "display_data"
    }
   ],
   "source": [
    "# Load necessary libraries\n",
    "library(tidyverse)\n",
    "library(haven)\n",
    "library(broom)\n",
    "library(stats)\n",
    "library(MASS)\n",
    "\n",
    "# Load the dataset\n",
    "data <- read_dta(\"28762-0001-Data.dta\")\n",
    "\n",
    "#Initial sample size\n",
    "nrow(data)"
   ]
  },
  {
   "cell_type": "markdown",
   "id": "54f826c6-394c-488f-be0b-c0ef06495c19",
   "metadata": {},
   "source": [
    "The initial sample size is 3302, but it requires cleaning. Missing/invalud values are present, but are notated with either missing cells and/or certain negative values. Certain binary variables must also be changed to match the values of 0 and 1.\n",
    "\n",
    "Before dropping missing values or creating dummy variables, I will recode all missing value notation to -9999 to clean them."
   ]
  },
  {
   "cell_type": "code",
   "execution_count": 208,
   "id": "f2e6ac23-7c97-4aa0-950e-8a4b64fc95d2",
   "metadata": {
    "tags": []
   },
   "outputs": [
    {
     "data": {
      "text/plain": [
       "\n",
       " -9   0   1   2   3   4   5   6   7   8   9  10  11  12  13  14  15 \n",
       "  9 361 340 746 711 520 319 148  74  28  21  12   4   2   5   1   1 "
      ]
     },
     "metadata": {},
     "output_type": "display_data"
    }
   ],
   "source": [
    "#NUMPREG0 table\n",
    "table(data$NUMPREG0)"
   ]
  },
  {
   "cell_type": "markdown",
   "id": "529a9693-0acb-4745-bf53-5ea75b2ef344",
   "metadata": {},
   "source": [
    "Here we see an example of the missing/invalid value notation used in the original data (-9). I will now proceed to clean the rest of the data."
   ]
  },
  {
   "cell_type": "code",
   "execution_count": 209,
   "id": "8f50f141-5c6a-4ab1-87cb-fa0912c76db7",
   "metadata": {
    "tags": []
   },
   "outputs": [
    {
     "data": {
      "text/html": [
       "<table class=\"dataframe\">\n",
       "<caption>A tibble: 5 × 2</caption>\n",
       "<thead>\n",
       "\t<tr><th scope=col>INCOME0</th><th scope=col>n</th></tr>\n",
       "\t<tr><th scope=col>&lt;dbl+lbl&gt;</th><th scope=col>&lt;int&gt;</th></tr>\n",
       "</thead>\n",
       "<tbody>\n",
       "\t<tr><td>-9999</td><td>  89</td></tr>\n",
       "\t<tr><td>    1</td><td> 488</td></tr>\n",
       "\t<tr><td>    2</td><td>1086</td></tr>\n",
       "\t<tr><td>    3</td><td>1160</td></tr>\n",
       "\t<tr><td>    4</td><td> 470</td></tr>\n",
       "</tbody>\n",
       "</table>\n"
      ],
      "text/latex": [
       "A tibble: 5 × 2\n",
       "\\begin{tabular}{ll}\n",
       " INCOME0 & n\\\\\n",
       " <dbl+lbl> & <int>\\\\\n",
       "\\hline\n",
       "\t -9999 &   89\\\\\n",
       "\t     1 &  488\\\\\n",
       "\t     2 & 1086\\\\\n",
       "\t     3 & 1160\\\\\n",
       "\t     4 &  470\\\\\n",
       "\\end{tabular}\n"
      ],
      "text/markdown": [
       "\n",
       "A tibble: 5 × 2\n",
       "\n",
       "| INCOME0 &lt;dbl+lbl&gt; | n &lt;int&gt; |\n",
       "|---|---|\n",
       "| -9999 |   89 |\n",
       "|     1 |  488 |\n",
       "|     2 | 1086 |\n",
       "|     3 | 1160 |\n",
       "|     4 |  470 |\n",
       "\n"
      ],
      "text/plain": [
       "  INCOME0 n   \n",
       "1 -9999     89\n",
       "2     1    488\n",
       "3     2   1086\n",
       "4     3   1160\n",
       "5     4    470"
      ]
     },
     "metadata": {},
     "output_type": "display_data"
    },
    {
     "data": {
      "text/html": [
       "<table class=\"dataframe\">\n",
       "<caption>A tibble: 1 × 4</caption>\n",
       "<thead>\n",
       "\t<tr><th scope=col>NUMPREG0_mean</th><th scope=col>NUMPREG0_sd</th><th scope=col>NUMPREG0_min</th><th scope=col>NUMPREG0_max</th></tr>\n",
       "\t<tr><th scope=col>&lt;dbl&gt;</th><th scope=col>&lt;dbl&gt;</th><th scope=col>&lt;dbl&gt;</th><th scope=col>&lt;dbl&gt;</th></tr>\n",
       "</thead>\n",
       "<tbody>\n",
       "\t<tr><td>2.958093</td><td>1.978639</td><td>0</td><td>15</td></tr>\n",
       "</tbody>\n",
       "</table>\n"
      ],
      "text/latex": [
       "A tibble: 1 × 4\n",
       "\\begin{tabular}{llll}\n",
       " NUMPREG0\\_mean & NUMPREG0\\_sd & NUMPREG0\\_min & NUMPREG0\\_max\\\\\n",
       " <dbl> & <dbl> & <dbl> & <dbl>\\\\\n",
       "\\hline\n",
       "\t 2.958093 & 1.978639 & 0 & 15\\\\\n",
       "\\end{tabular}\n"
      ],
      "text/markdown": [
       "\n",
       "A tibble: 1 × 4\n",
       "\n",
       "| NUMPREG0_mean &lt;dbl&gt; | NUMPREG0_sd &lt;dbl&gt; | NUMPREG0_min &lt;dbl&gt; | NUMPREG0_max &lt;dbl&gt; |\n",
       "|---|---|---|---|\n",
       "| 2.958093 | 1.978639 | 0 | 15 |\n",
       "\n"
      ],
      "text/plain": [
       "  NUMPREG0_mean NUMPREG0_sd NUMPREG0_min NUMPREG0_max\n",
       "1 2.958093      1.978639    0            15          "
      ]
     },
     "metadata": {},
     "output_type": "display_data"
    }
   ],
   "source": [
    "# Recode NUMPREG0\n",
    "data <- data %>% mutate(NUMPREG0 = ifelse(NUMPREG0 == -9, -9999, NUMPREG0))\n",
    "\n",
    "# Recode INCOME0\n",
    "data <- data %>% mutate(\n",
    "  INCOME0 = case_when(\n",
    "    INCOME0 %in% c(-9, -8, -7) ~ -9999,\n",
    "    is.na(INCOME0) ~ -9999,\n",
    "    TRUE ~ INCOME0\n",
    "  )\n",
    ")\n",
    "\n",
    "# Generate `insample` column\n",
    "data <- data %>% mutate(insample = ifelse(NUMPREG0 == -9999, 0, 1))\n",
    "\n",
    "#INCOME0 table\n",
    "data %>%\n",
    "  filter(insample == 1) %>%\n",
    "  count(INCOME0)\n",
    "\n",
    "# Summary statistics for NUMPREG0 if insample\n",
    "num_preg_summary <- data %>% filter(insample == 1) %>% summarise(across(NUMPREG0, list(mean = mean, sd = sd, min = min, max = max), na.rm = TRUE))\n",
    "num_preg_summary"
   ]
  },
  {
   "cell_type": "code",
   "execution_count": 210,
   "id": "3d5b4ef9-0275-4fbb-8feb-a4327428fbe8",
   "metadata": {
    "tags": []
   },
   "outputs": [
    {
     "data": {
      "text/html": [
       "<table class=\"dataframe\">\n",
       "<caption>A tibble: 12 × 2</caption>\n",
       "<thead>\n",
       "\t<tr><th scope=col>AGE0</th><th scope=col>n</th></tr>\n",
       "\t<tr><th scope=col>&lt;dbl&gt;</th><th scope=col>&lt;int&gt;</th></tr>\n",
       "</thead>\n",
       "<tbody>\n",
       "\t<tr><td>42</td><td>365</td></tr>\n",
       "\t<tr><td>43</td><td>421</td></tr>\n",
       "\t<tr><td>44</td><td>416</td></tr>\n",
       "\t<tr><td>45</td><td>389</td></tr>\n",
       "\t<tr><td>46</td><td>400</td></tr>\n",
       "\t<tr><td>47</td><td>392</td></tr>\n",
       "\t<tr><td>48</td><td>298</td></tr>\n",
       "\t<tr><td>49</td><td>255</td></tr>\n",
       "\t<tr><td>50</td><td>168</td></tr>\n",
       "\t<tr><td>51</td><td>114</td></tr>\n",
       "\t<tr><td>52</td><td> 71</td></tr>\n",
       "\t<tr><td>53</td><td>  4</td></tr>\n",
       "</tbody>\n",
       "</table>\n"
      ],
      "text/latex": [
       "A tibble: 12 × 2\n",
       "\\begin{tabular}{ll}\n",
       " AGE0 & n\\\\\n",
       " <dbl> & <int>\\\\\n",
       "\\hline\n",
       "\t 42 & 365\\\\\n",
       "\t 43 & 421\\\\\n",
       "\t 44 & 416\\\\\n",
       "\t 45 & 389\\\\\n",
       "\t 46 & 400\\\\\n",
       "\t 47 & 392\\\\\n",
       "\t 48 & 298\\\\\n",
       "\t 49 & 255\\\\\n",
       "\t 50 & 168\\\\\n",
       "\t 51 & 114\\\\\n",
       "\t 52 &  71\\\\\n",
       "\t 53 &   4\\\\\n",
       "\\end{tabular}\n"
      ],
      "text/markdown": [
       "\n",
       "A tibble: 12 × 2\n",
       "\n",
       "| AGE0 &lt;dbl&gt; | n &lt;int&gt; |\n",
       "|---|---|\n",
       "| 42 | 365 |\n",
       "| 43 | 421 |\n",
       "| 44 | 416 |\n",
       "| 45 | 389 |\n",
       "| 46 | 400 |\n",
       "| 47 | 392 |\n",
       "| 48 | 298 |\n",
       "| 49 | 255 |\n",
       "| 50 | 168 |\n",
       "| 51 | 114 |\n",
       "| 52 |  71 |\n",
       "| 53 |   4 |\n",
       "\n"
      ],
      "text/plain": [
       "   AGE0 n  \n",
       "1  42   365\n",
       "2  43   421\n",
       "3  44   416\n",
       "4  45   389\n",
       "5  46   400\n",
       "6  47   392\n",
       "7  48   298\n",
       "8  49   255\n",
       "9  50   168\n",
       "10 51   114\n",
       "11 52    71\n",
       "12 53     4"
      ]
     },
     "metadata": {},
     "output_type": "display_data"
    },
    {
     "data": {
      "text/html": [
       "<table class=\"dataframe\">\n",
       "<caption>A tibble: 2 × 2</caption>\n",
       "<thead>\n",
       "\t<tr><th scope=col>COMMITE0</th><th scope=col>n</th></tr>\n",
       "\t<tr><th scope=col>&lt;dbl+lbl&gt;</th><th scope=col>&lt;int&gt;</th></tr>\n",
       "</thead>\n",
       "<tbody>\n",
       "\t<tr><td>0</td><td> 754</td></tr>\n",
       "\t<tr><td>1</td><td>2539</td></tr>\n",
       "</tbody>\n",
       "</table>\n"
      ],
      "text/latex": [
       "A tibble: 2 × 2\n",
       "\\begin{tabular}{ll}\n",
       " COMMITE0 & n\\\\\n",
       " <dbl+lbl> & <int>\\\\\n",
       "\\hline\n",
       "\t 0 &  754\\\\\n",
       "\t 1 & 2539\\\\\n",
       "\\end{tabular}\n"
      ],
      "text/markdown": [
       "\n",
       "A tibble: 2 × 2\n",
       "\n",
       "| COMMITE0 &lt;dbl+lbl&gt; | n &lt;int&gt; |\n",
       "|---|---|\n",
       "| 0 |  754 |\n",
       "| 1 | 2539 |\n",
       "\n"
      ],
      "text/plain": [
       "  COMMITE0 n   \n",
       "1 0         754\n",
       "2 1        2539"
      ]
     },
     "metadata": {},
     "output_type": "display_data"
    }
   ],
   "source": [
    "# Generate race dummy variables\n",
    "data <- data %>% mutate(\n",
    "  black = ifelse(RACE == 1, 1, 0),\n",
    "  chinese = ifelse(RACE == 2, 1, 0),\n",
    "  japanese = ifelse(RACE == 3, 1, 0),\n",
    "  hispanic = ifelse(RACE == 5, 1, 0)\n",
    ")\n",
    "\n",
    "# Recode AGE0\n",
    "data <- data %>% mutate(AGE0 = ifelse(is.na(AGE0), -9999, AGE0))\n",
    "\n",
    "# Recode COMMITE0 and add labels\n",
    "data <- data %>% mutate(COMMITE0 = case_when(\n",
    "  COMMITE0 == -9 ~ -9999,\n",
    "  COMMITE0 == 1 ~ 0,\n",
    "  COMMITE0 == 2 ~ 1,\n",
    "  TRUE ~ COMMITE0\n",
    "))\n",
    "commite_labels <- c(\"-9999\" = \"Missing\", \"0\" = \"No\", \"1\" = \"Yes\")\n",
    "\n",
    "data %>%\n",
    "  filter(insample == 1) %>%\n",
    "  count(AGE0)\n",
    "data %>%\n",
    "  filter(insample == 1) %>%\n",
    "  count(COMMITE0)"
   ]
  },
  {
   "cell_type": "markdown",
   "id": "6586faa8-d000-4cf4-8c6d-599478f10848",
   "metadata": {
    "tags": []
   },
   "source": [
    "No missing values."
   ]
  },
  {
   "cell_type": "code",
   "execution_count": 211,
   "id": "6aec3869-465f-46c0-ace5-3ee276f5e342",
   "metadata": {
    "tags": []
   },
   "outputs": [
    {
     "data": {
      "text/html": [
       "<table class=\"dataframe\">\n",
       "<caption>A tibble: 3 × 2</caption>\n",
       "<thead>\n",
       "\t<tr><th scope=col>ENGAGSE0</th><th scope=col>n</th></tr>\n",
       "\t<tr><th scope=col>&lt;dbl+lbl&gt;</th><th scope=col>&lt;int&gt;</th></tr>\n",
       "</thead>\n",
       "<tbody>\n",
       "\t<tr><td>-9999</td><td> 154</td></tr>\n",
       "\t<tr><td>    0</td><td> 672</td></tr>\n",
       "\t<tr><td>    1</td><td>2467</td></tr>\n",
       "</tbody>\n",
       "</table>\n"
      ],
      "text/latex": [
       "A tibble: 3 × 2\n",
       "\\begin{tabular}{ll}\n",
       " ENGAGSE0 & n\\\\\n",
       " <dbl+lbl> & <int>\\\\\n",
       "\\hline\n",
       "\t -9999 &  154\\\\\n",
       "\t     0 &  672\\\\\n",
       "\t     1 & 2467\\\\\n",
       "\\end{tabular}\n"
      ],
      "text/markdown": [
       "\n",
       "A tibble: 3 × 2\n",
       "\n",
       "| ENGAGSE0 &lt;dbl+lbl&gt; | n &lt;int&gt; |\n",
       "|---|---|\n",
       "| -9999 |  154 |\n",
       "|     0 |  672 |\n",
       "|     1 | 2467 |\n",
       "\n"
      ],
      "text/plain": [
       "  ENGAGSE0 n   \n",
       "1 -9999     154\n",
       "2     0     672\n",
       "3     1    2467"
      ]
     },
     "metadata": {},
     "output_type": "display_data"
    }
   ],
   "source": [
    "# Recode ENGAGSE0 and add labels\n",
    "data <- data %>% mutate(ENGAGSE0 = case_when(\n",
    "  ENGAGSE0 == -9 ~ -9999,\n",
    "  ENGAGSE0 == 1 ~ 0,\n",
    "  ENGAGSE0 == 2 ~ 1,\n",
    "  is.na(ENGAGSE0) ~ -9999,\n",
    "  TRUE ~ ENGAGSE0\n",
    "))\n",
    "engagse_labels <- c(\"-9999\" = \"Missing\", \"0\" = \"No\", \"1\" = \"Yes\")\n",
    "\n",
    "#ENGAGSE0 table\n",
    "data %>%\n",
    "  filter(insample == 1) %>%\n",
    "  count(ENGAGSE0)\n"
   ]
  },
  {
   "cell_type": "code",
   "execution_count": 212,
   "id": "66ebfaab-8eec-4163-801c-3ec37d1e087c",
   "metadata": {
    "tags": []
   },
   "outputs": [
    {
     "data": {
      "text/html": [
       "<table class=\"dataframe\">\n",
       "<caption>A tibble: 3 × 2</caption>\n",
       "<thead>\n",
       "\t<tr><th scope=col>PRGNANC0</th><th scope=col>n</th></tr>\n",
       "\t<tr><th scope=col>&lt;dbl+lbl&gt;</th><th scope=col>&lt;int&gt;</th></tr>\n",
       "</thead>\n",
       "<tbody>\n",
       "\t<tr><td>-9999</td><td> 827</td></tr>\n",
       "\t<tr><td>    0</td><td>1762</td></tr>\n",
       "\t<tr><td>    1</td><td> 704</td></tr>\n",
       "</tbody>\n",
       "</table>\n"
      ],
      "text/latex": [
       "A tibble: 3 × 2\n",
       "\\begin{tabular}{ll}\n",
       " PRGNANC0 & n\\\\\n",
       " <dbl+lbl> & <int>\\\\\n",
       "\\hline\n",
       "\t -9999 &  827\\\\\n",
       "\t     0 & 1762\\\\\n",
       "\t     1 &  704\\\\\n",
       "\\end{tabular}\n"
      ],
      "text/markdown": [
       "\n",
       "A tibble: 3 × 2\n",
       "\n",
       "| PRGNANC0 &lt;dbl+lbl&gt; | n &lt;int&gt; |\n",
       "|---|---|\n",
       "| -9999 |  827 |\n",
       "|     0 | 1762 |\n",
       "|     1 |  704 |\n",
       "\n"
      ],
      "text/plain": [
       "  PRGNANC0 n   \n",
       "1 -9999     827\n",
       "2     0    1762\n",
       "3     1     704"
      ]
     },
     "metadata": {},
     "output_type": "display_data"
    }
   ],
   "source": [
    "# Recode PRGNANC0 and add labels\n",
    "data <- data %>% mutate(PRGNANC0 = case_when(\n",
    "  PRGNANC0 %in% c(-9, -1) ~ -9999,\n",
    "  PRGNANC0 == 1 ~ 0,\n",
    "  PRGNANC0 == 2 ~ 1,\n",
    "  is.na(PRGNANC0) ~ -9999,\n",
    "  TRUE ~ PRGNANC0\n",
    "))\n",
    "prgnanc_labels <- c(\"-9999\" = \"Missing\", \"0\" = \"No\", \"1\" = \"Yes\")\n",
    "\n",
    "#PRGNANC0 table\n",
    "data %>%\n",
    "  filter(insample == 1) %>%\n",
    "  count(PRGNANC0)"
   ]
  },
  {
   "cell_type": "code",
   "execution_count": 213,
   "id": "367cb15f-1e2d-40a1-aee0-c30e7513625c",
   "metadata": {
    "tags": []
   },
   "outputs": [],
   "source": [
    "# Update `insample` based on AGE and COMMITE0\n",
    "data <- data %>% mutate(\n",
    "  insample = ifelse(AGE0 == -9999 | COMMITE0 == -9999, 0, insample)\n",
    ")"
   ]
  },
  {
   "cell_type": "markdown",
   "id": "eff68f0c-d0d0-44c4-b599-da47086b249b",
   "metadata": {},
   "source": [
    "Due to the significant amount of missing values in INCOME0, ENGAGSE0, and PRGNANC0, dummy variables for the missing values will be made."
   ]
  },
  {
   "cell_type": "code",
   "execution_count": 214,
   "id": "521ad2f4-8ff2-49fc-9de6-75726f66be67",
   "metadata": {
    "tags": []
   },
   "outputs": [
    {
     "data": {
      "text/html": [
       "<table class=\"dataframe\">\n",
       "<caption>A tibble: 1 × 64</caption>\n",
       "<thead>\n",
       "\t<tr><th scope=col>NUMPREG0_mean</th><th scope=col>NUMPREG0_sd</th><th scope=col>NUMPREG0_min</th><th scope=col>NUMPREG0_max</th><th scope=col>COMMITE0_mean</th><th scope=col>COMMITE0_sd</th><th scope=col>COMMITE0_min</th><th scope=col>COMMITE0_max</th><th scope=col>AGE0_mean</th><th scope=col>AGE0_sd</th><th scope=col>⋯</th><th scope=col>sexa1_min</th><th scope=col>sexa1_max</th><th scope=col>conm_mean</th><th scope=col>conm_sd</th><th scope=col>conm_min</th><th scope=col>conm_max</th><th scope=col>con0_mean</th><th scope=col>con0_sd</th><th scope=col>con0_min</th><th scope=col>con0_max</th></tr>\n",
       "\t<tr><th scope=col>&lt;dbl&gt;</th><th scope=col>&lt;dbl&gt;</th><th scope=col>&lt;dbl&gt;</th><th scope=col>&lt;dbl&gt;</th><th scope=col>&lt;dbl&gt;</th><th scope=col>&lt;dbl&gt;</th><th scope=col>&lt;dbl+lbl&gt;</th><th scope=col>&lt;dbl+lbl&gt;</th><th scope=col>&lt;dbl&gt;</th><th scope=col>&lt;dbl&gt;</th><th scope=col>⋯</th><th scope=col>&lt;dbl&gt;</th><th scope=col>&lt;dbl&gt;</th><th scope=col>&lt;dbl&gt;</th><th scope=col>&lt;dbl&gt;</th><th scope=col>&lt;dbl&gt;</th><th scope=col>&lt;dbl&gt;</th><th scope=col>&lt;dbl&gt;</th><th scope=col>&lt;dbl&gt;</th><th scope=col>&lt;dbl&gt;</th><th scope=col>&lt;dbl&gt;</th></tr>\n",
       "</thead>\n",
       "<tbody>\n",
       "\t<tr><td>2.958093</td><td>1.978639</td><td>0</td><td>15</td><td>0.7710295</td><td>0.4202341</td><td>0</td><td>1</td><td>45.84968</td><td>2.687478</td><td>⋯</td><td>0</td><td>1</td><td>0.2511388</td><td>0.433734</td><td>0</td><td>1</td><td>0.5350744</td><td>0.498844</td><td>0</td><td>1</td></tr>\n",
       "</tbody>\n",
       "</table>\n"
      ],
      "text/latex": [
       "A tibble: 1 × 64\n",
       "\\begin{tabular}{lllllllllllllllllllll}\n",
       " NUMPREG0\\_mean & NUMPREG0\\_sd & NUMPREG0\\_min & NUMPREG0\\_max & COMMITE0\\_mean & COMMITE0\\_sd & COMMITE0\\_min & COMMITE0\\_max & AGE0\\_mean & AGE0\\_sd & ⋯ & sexa1\\_min & sexa1\\_max & conm\\_mean & conm\\_sd & conm\\_min & conm\\_max & con0\\_mean & con0\\_sd & con0\\_min & con0\\_max\\\\\n",
       " <dbl> & <dbl> & <dbl> & <dbl> & <dbl> & <dbl> & <dbl+lbl> & <dbl+lbl> & <dbl> & <dbl> & ⋯ & <dbl> & <dbl> & <dbl> & <dbl> & <dbl> & <dbl> & <dbl> & <dbl> & <dbl> & <dbl>\\\\\n",
       "\\hline\n",
       "\t 2.958093 & 1.978639 & 0 & 15 & 0.7710295 & 0.4202341 & 0 & 1 & 45.84968 & 2.687478 & ⋯ & 0 & 1 & 0.2511388 & 0.433734 & 0 & 1 & 0.5350744 & 0.498844 & 0 & 1\\\\\n",
       "\\end{tabular}\n"
      ],
      "text/markdown": [
       "\n",
       "A tibble: 1 × 64\n",
       "\n",
       "| NUMPREG0_mean &lt;dbl&gt; | NUMPREG0_sd &lt;dbl&gt; | NUMPREG0_min &lt;dbl&gt; | NUMPREG0_max &lt;dbl&gt; | COMMITE0_mean &lt;dbl&gt; | COMMITE0_sd &lt;dbl&gt; | COMMITE0_min &lt;dbl+lbl&gt; | COMMITE0_max &lt;dbl+lbl&gt; | AGE0_mean &lt;dbl&gt; | AGE0_sd &lt;dbl&gt; | ⋯ ⋯ | sexa1_min &lt;dbl&gt; | sexa1_max &lt;dbl&gt; | conm_mean &lt;dbl&gt; | conm_sd &lt;dbl&gt; | conm_min &lt;dbl&gt; | conm_max &lt;dbl&gt; | con0_mean &lt;dbl&gt; | con0_sd &lt;dbl&gt; | con0_min &lt;dbl&gt; | con0_max &lt;dbl&gt; |\n",
       "|---|---|---|---|---|---|---|---|---|---|---|---|---|---|---|---|---|---|---|---|---|\n",
       "| 2.958093 | 1.978639 | 0 | 15 | 0.7710295 | 0.4202341 | 0 | 1 | 45.84968 | 2.687478 | ⋯ | 0 | 1 | 0.2511388 | 0.433734 | 0 | 1 | 0.5350744 | 0.498844 | 0 | 1 |\n",
       "\n"
      ],
      "text/plain": [
       "  NUMPREG0_mean NUMPREG0_sd NUMPREG0_min NUMPREG0_max COMMITE0_mean COMMITE0_sd\n",
       "1 2.958093      1.978639    0            15           0.7710295     0.4202341  \n",
       "  COMMITE0_min COMMITE0_max AGE0_mean AGE0_sd  ⋯ sexa1_min sexa1_max conm_mean\n",
       "1 0            1            45.84968  2.687478 ⋯ 0         1         0.2511388\n",
       "  conm_sd  conm_min conm_max con0_mean con0_sd  con0_min con0_max\n",
       "1 0.433734 0        1        0.5350744 0.498844 0        1       "
      ]
     },
     "metadata": {},
     "output_type": "display_data"
    }
   ],
   "source": [
    "# Income dummy variables\n",
    "data <- data %>% mutate(\n",
    "  xincm = ifelse(INCOME0 == -9999, 1, 0),\n",
    "  xinc1 = ifelse(INCOME0 == 1, 1, 0),\n",
    "  xinc2 = ifelse(INCOME0 == 2, 1, 0),\n",
    "  xinc3 = ifelse(INCOME0 == 3, 1, 0),\n",
    "  xinc4 = ifelse(INCOME0 == 4, 1, 0)\n",
    ")\n",
    "\n",
    "# ENGAGSE0 dummy variables\n",
    "data <- data %>% mutate(\n",
    "  sexam = ifelse(ENGAGSE0 == -9999, 1, 0),\n",
    "  sexa0 = ifelse(ENGAGSE0 == 0, 1, 0),\n",
    "  sexa1 = ifelse(ENGAGSE0 == 1, 1, 0)\n",
    ")\n",
    "\n",
    "# PRGNANC0 dummy variables\n",
    "data <- data %>% mutate(\n",
    "  conm = ifelse(PRGNANC0 == -9999, 1, 0),\n",
    "  con0 = ifelse(PRGNANC0 == 0, 1, 0),\n",
    "  con1 = ifelse(PRGNANC0 == 1, 1, 0)\n",
    ")\n",
    "\n",
    "# Summary statistics\n",
    "data_summary <- data %>% filter(insample == 1) %>% summarise(across(\n",
    "  c(NUMPREG0, COMMITE0, AGE0, black, chinese, japanese, hispanic,\n",
    "    xincm, xinc1, xinc2, xinc3, sexam, sexa0, sexa1, conm, con0),\n",
    "  list(mean = mean, sd = sd, min = min, max = max), na.rm = TRUE\n",
    "))\n",
    "data_summary\n"
   ]
  },
  {
   "cell_type": "markdown",
   "id": "dc455e13-7c4a-40da-b55d-8001d3d970cc",
   "metadata": {
    "tags": []
   },
   "source": [
    "## Analyzing the Data\n",
    "\n",
    "The next step is to analyze our cleaned data to test our null hypothesis.\n",
    "\n",
    "Our dependant variable, NUMPREG0, is a count variable of the number of pregnancies a woman has had. For this project, we start with a Poisson Regression Model and consider its suitability.\n",
    "### Poisson"
   ]
  },
  {
   "cell_type": "code",
   "execution_count": 215,
   "id": "2dbbf0ec-86d6-4dca-ac91-721440f322ea",
   "metadata": {
    "tags": []
   },
   "outputs": [
    {
     "data": {
      "text/plain": [
       "\n",
       "Call:\n",
       "glm(formula = NUMPREG0 ~ AGE0 + COMMITE0 + xincm + xinc1 + xinc2 + \n",
       "    xinc3 + black + hispanic + chinese + japanese + conm + con0 + \n",
       "    sexam + sexa0, family = poisson(), data = data %>% filter(insample == \n",
       "    1))\n",
       "\n",
       "Coefficients:\n",
       "             Estimate Std. Error z value Pr(>|z|)    \n",
       "(Intercept)  0.827388   0.180508   4.584 4.57e-06 ***\n",
       "AGE0        -0.001251   0.003803  -0.329 0.742227    \n",
       "COMMITE0     0.161838   0.032145   5.035 4.79e-07 ***\n",
       "xincm        0.055230   0.067971   0.813 0.416470    \n",
       "xinc1        0.238833   0.041521   5.752 8.82e-09 ***\n",
       "xinc2        0.060701   0.034743   1.747 0.080617 .  \n",
       "xinc3        0.012554   0.033432   0.376 0.707286    \n",
       "black        0.291839   0.024727  11.803  < 2e-16 ***\n",
       "hispanic     0.310124   0.038265   8.105 5.29e-16 ***\n",
       "chinese      0.037451   0.041987   0.892 0.372418    \n",
       "japanese     0.066197   0.040115   1.650 0.098904 .  \n",
       "conm         0.069615   0.054702   1.273 0.203154    \n",
       "con0         0.036421   0.026469   1.376 0.168832    \n",
       "sexam       -0.039961   0.052506  -0.761 0.446611    \n",
       "sexa0       -0.223929   0.058779  -3.810 0.000139 ***\n",
       "---\n",
       "Signif. codes:  0 ‘***’ 0.001 ‘**’ 0.01 ‘*’ 0.05 ‘.’ 0.1 ‘ ’ 1\n",
       "\n",
       "(Dispersion parameter for poisson family taken to be 1)\n",
       "\n",
       "    Null deviance: 4858.8  on 3292  degrees of freedom\n",
       "Residual deviance: 4441.0  on 3278  degrees of freedom\n",
       "AIC: 13162\n",
       "\n",
       "Number of Fisher Scoring iterations: 5\n"
      ]
     },
     "metadata": {},
     "output_type": "display_data"
    }
   ],
   "source": [
    "# Poisson Regression of insample\n",
    "poisson_model <- glm(NUMPREG0 ~ AGE0 + COMMITE0 + xincm + xinc1 + xinc2 + xinc3 + black + hispanic +\n",
    "    chinese + japanese + conm + con0 + sexam + sexa0, \n",
    "    family = poisson(), \n",
    "    data = data %>% filter(insample == 1))\n",
    "\n",
    "# Checking model summary\n",
    "summary(poisson_model)\n"
   ]
  },
  {
   "cell_type": "markdown",
   "id": "bd29ce3c-6350-42b2-a810-2f66030f7b6e",
   "metadata": {},
   "source": [
    "### Interpreting Poisson & Overdispersion\n",
    "\n",
    "Before interpreting the results of the Poisson model, we must check for overdispersion to see if the data follows a Poisson distribution or Negative Binomial distribution. If overdispersion is present (variance>mean), then we will move on to the negative binomial regression model."
   ]
  },
  {
   "cell_type": "code",
   "execution_count": 216,
   "id": "e18d6ae7-c896-425e-9988-7c91c05602c1",
   "metadata": {
    "tags": []
   },
   "outputs": [
    {
     "data": {
      "text/html": [
       "1.2269869333304"
      ],
      "text/latex": [
       "1.2269869333304"
      ],
      "text/markdown": [
       "1.2269869333304"
      ],
      "text/plain": [
       "[1] 1.226987"
      ]
     },
     "metadata": {},
     "output_type": "display_data"
    }
   ],
   "source": [
    "# Checking for overdispersion using Pearson residuals\n",
    "residual_deviance <- sum(residuals(poisson_model, type = \"pearson\")^2)\n",
    "overdispersion_ratio <- residual_deviance / poisson_model$df.residual\n",
    "overdispersion_ratio\n"
   ]
  },
  {
   "cell_type": "markdown",
   "id": "ea5e5999-7043-4e29-bc15-38995b74f9e3",
   "metadata": {},
   "source": [
    "The overdispersion ratio is slightly greater than 1, which indicates some overdispersion. A Negative Binomial Regression model would be a better fit.\n",
    "\n",
    "### NBR"
   ]
  },
  {
   "cell_type": "code",
   "execution_count": 217,
   "id": "4c3c38b2-7a49-4cec-9150-8cfd9a38d643",
   "metadata": {
    "tags": []
   },
   "outputs": [
    {
     "data": {
      "text/plain": [
       "\n",
       "Call:\n",
       "glm.nb(formula = NUMPREG0 ~ AGE0 + COMMITE0 + xincm + xinc1 + \n",
       "    xinc2 + xinc3 + black + hispanic + chinese + japanese + conm + \n",
       "    con0 + sexam + sexa0, data = data %>% filter(insample == \n",
       "    1), init.theta = 15.75401484, link = log)\n",
       "\n",
       "Coefficients:\n",
       "              Estimate Std. Error z value Pr(>|z|)    \n",
       "(Intercept)  0.8060805  0.1972483   4.087 4.38e-05 ***\n",
       "AGE0        -0.0008339  0.0041560  -0.201 0.840976    \n",
       "COMMITE0     0.1646464  0.0350639   4.696 2.66e-06 ***\n",
       "xincm        0.0551442  0.0742532   0.743 0.457693    \n",
       "xinc1        0.2396043  0.0455110   5.265 1.40e-07 ***\n",
       "xinc2        0.0611118  0.0377371   1.619 0.105359    \n",
       "xinc3        0.0123074  0.0362470   0.340 0.734201    \n",
       "black        0.2938626  0.0270417  10.867  < 2e-16 ***\n",
       "hispanic     0.3113880  0.0423117   7.359 1.85e-13 ***\n",
       "chinese      0.0377804  0.0454363   0.832 0.405690    \n",
       "japanese     0.0668860  0.0434363   1.540 0.123593    \n",
       "conm         0.0701003  0.0601504   1.165 0.243850    \n",
       "con0         0.0357278  0.0288760   1.237 0.215982    \n",
       "sexam       -0.0404615  0.0576668  -0.702 0.482902    \n",
       "sexa0       -0.2277755  0.0644922  -3.532 0.000413 ***\n",
       "---\n",
       "Signif. codes:  0 ‘***’ 0.001 ‘**’ 0.01 ‘*’ 0.05 ‘.’ 0.1 ‘ ’ 1\n",
       "\n",
       "(Dispersion parameter for Negative Binomial(15.754) family taken to be 1)\n",
       "\n",
       "    Null deviance: 4187.1  on 3292  degrees of freedom\n",
       "Residual deviance: 3834.3  on 3278  degrees of freedom\n",
       "AIC: 13111\n",
       "\n",
       "Number of Fisher Scoring iterations: 1\n",
       "\n",
       "\n",
       "              Theta:  15.75 \n",
       "          Std. Err.:  2.51 \n",
       "\n",
       " 2 x log-likelihood:  -13079.14 "
      ]
     },
     "metadata": {},
     "output_type": "display_data"
    }
   ],
   "source": [
    "# Fit Negative Binomial Regression\n",
    "negbinom_model <- glm.nb(NUMPREG0 ~ AGE0 + COMMITE0 + xincm + xinc1 + xinc2 + xinc3 + black + hispanic +\n",
    "    chinese + japanese + conm + con0 + sexam + sexa0, \n",
    "                          data = data %>% filter(insample == 1))\n",
    "\n",
    "# Check the summary of the Negative Binomial model\n",
    "summary(negbinom_model)"
   ]
  },
  {
   "cell_type": "code",
   "execution_count": 218,
   "id": "1f85f891-22c6-4f26-b663-a2bd3f5de5bd",
   "metadata": {
    "tags": []
   },
   "outputs": [
    {
     "data": {
      "text/html": [
       "1.03765350420803"
      ],
      "text/latex": [
       "1.03765350420803"
      ],
      "text/markdown": [
       "1.03765350420803"
      ],
      "text/plain": [
       "[1] 1.037654"
      ]
     },
     "metadata": {},
     "output_type": "display_data"
    }
   ],
   "source": [
    "# Overdispersion test\n",
    "residual_deviance <- sum(residuals(refined_model, type = \"pearson\")^2)\n",
    "overdispersion_ratio <- residual_deviance / refined_model$df.residual\n",
    "overdispersion_ratio"
   ]
  },
  {
   "cell_type": "markdown",
   "id": "78d34c79-2d5b-41be-b8ff-1cd96cd4534b",
   "metadata": {},
   "source": [
    "### Interpreting Negative Binomial Regression\n",
    "\n",
    "The dispersion parameter, theta, is greater than 1, but the NBR model mostly accounts for this overdispersion, and when we repeat the overdispersion test the ratio is very close to 1. The model converged after one iteration. We see that this model is a better fit than Poisson, as the AIC is lower. We can now move on to interpreting results.\n",
    "\n",
    "Significant variables are marked with asterisks. At a 95% confidence interval, we see that COMMITE0, xinc1, black, hispanic, and sexa0 are statistically significant. Our Null hypothesis was that there is no significant correlation between income, race, or other variables on the number of pregnancies. Our results contradict our Null hypothesis, and indicate that there *are* variables which significantly impact the number of pregnancies a woman is likely to have. In particular, being black, hispanic, or being in a commited relationship are strong positive predictors.\n",
    "\n",
    "However, there are many variables that aren't statistically significant. The model can be refined by reducing the number of dummy variable categories by conflating them and/or dropping variables with high p-values, such as AGE0. (The non-significance of age to number of pregnancies is likely due to the narrow age-range of women sampled from.)\n"
   ]
  },
  {
   "cell_type": "code",
   "execution_count": 219,
   "id": "527668ea-8ab8-4a60-80b9-cdc116204c10",
   "metadata": {
    "tags": []
   },
   "outputs": [],
   "source": [
    "# Income dummy variables\n",
    "data <- data %>% mutate(\n",
    "  xinc1 = ifelse(INCOME0 == 1, 1, 0),\n",
    "  xinc2.3.4 = ifelse(INCOME0 %in% c(2, 3, 4), 1, 0)\n",
    ")\n",
    "\n",
    "# ENGAGSE0 dummy variables\n",
    "data <- data %>% mutate(\n",
    "  sexa0 = ifelse(ENGAGSE0 == 0, 1, 0),\n",
    "  sexa1 = ifelse(ENGAGSE0 == 1, 1, 0)\n",
    ")\n",
    "\n",
    "data <- data %>% mutate(\n",
    "  black = ifelse(RACE == 1, 1, 0),\n",
    "  asian = ifelse(RACE %in% c(2, 3), 1, 0),\n",
    "  hispanic = ifelse(RACE == 5, 1, 0)\n",
    ")"
   ]
  },
  {
   "cell_type": "code",
   "execution_count": 220,
   "id": "0549c79e-f5b9-4c85-8c5f-5f6610b252b5",
   "metadata": {
    "tags": []
   },
   "outputs": [
    {
     "data": {
      "text/plain": [
       "\n",
       "Call:\n",
       "glm.nb(formula = NUMPREG0 ~ COMMITE0 + xinc1 + xinc2.3.4 + black + \n",
       "    hispanic + asian + sexa0, data = data %>% filter(insample == \n",
       "    1), init.theta = 15.55707991, link = log)\n",
       "\n",
       "Coefficients:\n",
       "            Estimate Std. Error z value Pr(>|z|)    \n",
       "(Intercept)  0.84984    0.07598  11.184  < 2e-16 ***\n",
       "COMMITE0     0.15383    0.03444   4.466 7.97e-06 ***\n",
       "xinc1        0.17910    0.07257   2.468   0.0136 *  \n",
       "xinc2.3.4   -0.02044    0.06817  -0.300   0.7643    \n",
       "black        0.30517    0.02656  11.490  < 2e-16 ***\n",
       "hispanic     0.33318    0.04143   8.042 8.86e-16 ***\n",
       "asian        0.04692    0.03352   1.400   0.1616    \n",
       "sexa0       -0.18243    0.03600  -5.068 4.03e-07 ***\n",
       "---\n",
       "Signif. codes:  0 ‘***’ 0.001 ‘**’ 0.01 ‘*’ 0.05 ‘.’ 0.1 ‘ ’ 1\n",
       "\n",
       "(Dispersion parameter for Negative Binomial(15.5571) family taken to be 1)\n",
       "\n",
       "    Null deviance: 4180.1  on 3292  degrees of freedom\n",
       "Residual deviance: 3834.3  on 3285  degrees of freedom\n",
       "AIC: 13104\n",
       "\n",
       "Number of Fisher Scoring iterations: 1\n",
       "\n",
       "\n",
       "              Theta:  15.56 \n",
       "          Std. Err.:  2.45 \n",
       "\n",
       " 2 x log-likelihood:  -13085.55 "
      ]
     },
     "metadata": {},
     "output_type": "display_data"
    }
   ],
   "source": [
    "# Refined model without variables with high p-values (e.g., AGE0, xincm, sexam)\n",
    "refined_model <- glm.nb(NUMPREG0 ~ COMMITE0 + xinc1 + xinc2.3.4 + black + hispanic +\n",
    "    asian + sexa0, \n",
    "                          data = data %>% filter(insample == 1))\n",
    "summary(refined_model)\n"
   ]
  },
  {
   "cell_type": "markdown",
   "id": "7308888b-8b0e-4797-9535-2ff82a27ca54",
   "metadata": {},
   "source": [
    "The AIC has improved more, indicating a better fit. For the purpose of this project, this final model will be used to interpret the data.\n",
    "\n",
    "In conclusion, low income, being black, being hispanic, being in a committed relationship, and *not* currently being sexually active (at the time the survey was taken) are all predictors of a high number of pregnancies."
   ]
  },
  {
   "cell_type": "code",
   "execution_count": null,
   "id": "17e907c4-25fc-429d-92d2-752484c2af34",
   "metadata": {},
   "outputs": [],
   "source": []
  }
 ],
 "metadata": {
  "kernelspec": {
   "display_name": ".conda-data730:R",
   "language": "R",
   "name": "conda-env-.conda-data730-r"
  },
  "language_info": {
   "codemirror_mode": "r",
   "file_extension": ".r",
   "mimetype": "text/x-r-source",
   "name": "R",
   "pygments_lexer": "r",
   "version": "4.3.3"
  }
 },
 "nbformat": 4,
 "nbformat_minor": 5
}
